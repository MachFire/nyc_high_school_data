{
 "cells": [
  {
   "cell_type": "markdown",
   "metadata": {},
   "source": [
    "# Read in the data"
   ]
  },
  {
   "cell_type": "code",
   "execution_count": 2,
   "metadata": {
    "collapsed": true
   },
   "outputs": [],
   "source": [
    "import pandas as pd\n",
    "import numpy as np\n",
    "import re\n",
    "import matplotlib.pyplot as plt\n",
    "%matplotlib inline\n",
    "\n",
    "data_files = [\n",
    "    \"ap_2010.csv\",\n",
    "    \"class_size.csv\",\n",
    "    \"demographics.csv\",\n",
    "    \"graduation.csv\",\n",
    "    \"hs_directory.csv\",\n",
    "    \"sat_results.csv\"\n",
    "]\n",
    "\n",
    "data = {}\n",
    "\n",
    "for f in data_files:\n",
    "    d = pd.read_csv(\"schools/{0}\".format(f))\n",
    "    data[f.replace(\".csv\", \"\")] = d"
   ]
  },
  {
   "cell_type": "markdown",
   "metadata": {},
   "source": [
    "# Read in the surveys"
   ]
  },
  {
   "cell_type": "code",
   "execution_count": 3,
   "metadata": {
    "collapsed": true
   },
   "outputs": [],
   "source": [
    "all_survey = pd.read_csv(\"schools/survey_all.txt\", delimiter=\"\\t\", encoding='windows-1252')\n",
    "d75_survey = pd.read_csv(\"schools/survey_d75.txt\", delimiter=\"\\t\", encoding='windows-1252')\n",
    "survey = pd.concat([all_survey, d75_survey], axis=0)\n",
    "\n",
    "survey[\"DBN\"] = survey[\"dbn\"]\n",
    "\n",
    "survey_fields = [\n",
    "    \"DBN\", \n",
    "    \"rr_s\", \n",
    "    \"rr_t\", \n",
    "    \"rr_p\", \n",
    "    \"N_s\", \n",
    "    \"N_t\", \n",
    "    \"N_p\", \n",
    "    \"saf_p_11\", \n",
    "    \"com_p_11\", \n",
    "    \"eng_p_11\", \n",
    "    \"aca_p_11\", \n",
    "    \"saf_t_11\", \n",
    "    \"com_t_11\", \n",
    "    \"eng_t_11\", \n",
    "    \"aca_t_11\", \n",
    "    \"saf_s_11\", \n",
    "    \"com_s_11\", \n",
    "    \"eng_s_11\", \n",
    "    \"aca_s_11\", \n",
    "    \"saf_tot_11\", \n",
    "    \"com_tot_11\", \n",
    "    \"eng_tot_11\", \n",
    "    \"aca_tot_11\",\n",
    "]\n",
    "survey = survey.loc[:,survey_fields]\n",
    "data[\"survey\"] = survey"
   ]
  },
  {
   "cell_type": "markdown",
   "metadata": {},
   "source": [
    "# Add DBN columns"
   ]
  },
  {
   "cell_type": "code",
   "execution_count": 4,
   "metadata": {
    "collapsed": true
   },
   "outputs": [],
   "source": [
    "data[\"hs_directory\"][\"DBN\"] = data[\"hs_directory\"][\"dbn\"]\n",
    "\n",
    "def pad_csd(num):\n",
    "    string_representation = str(num)\n",
    "    if len(string_representation) > 1:\n",
    "        return string_representation\n",
    "    else:\n",
    "        return \"0\" + string_representation\n",
    "    \n",
    "data[\"class_size\"][\"padded_csd\"] = data[\"class_size\"][\"CSD\"].apply(pad_csd)\n",
    "data[\"class_size\"][\"DBN\"] = data[\"class_size\"][\"padded_csd\"] + data[\"class_size\"][\"SCHOOL CODE\"]"
   ]
  },
  {
   "cell_type": "markdown",
   "metadata": {},
   "source": [
    "# Convert columns to numeric"
   ]
  },
  {
   "cell_type": "code",
   "execution_count": 5,
   "metadata": {
    "collapsed": true
   },
   "outputs": [],
   "source": [
    "cols = ['SAT Math Avg. Score', 'SAT Critical Reading Avg. Score', 'SAT Writing Avg. Score']\n",
    "for c in cols:\n",
    "    data[\"sat_results\"][c] = pd.to_numeric(data[\"sat_results\"][c], errors=\"coerce\")\n",
    "\n",
    "data['sat_results']['sat_score'] = data['sat_results'][cols[0]] + data['sat_results'][cols[1]] + data['sat_results'][cols[2]]\n",
    "\n",
    "def find_lat(loc):\n",
    "    coords = re.findall(\"\\(.+, .+\\)\", loc)\n",
    "    lat = coords[0].split(\",\")[0].replace(\"(\", \"\")\n",
    "    return lat\n",
    "\n",
    "def find_lon(loc):\n",
    "    coords = re.findall(\"\\(.+, .+\\)\", loc)\n",
    "    lon = coords[0].split(\",\")[1].replace(\")\", \"\").strip()\n",
    "    return lon\n",
    "\n",
    "data[\"hs_directory\"][\"lat\"] = data[\"hs_directory\"][\"Location 1\"].apply(find_lat)\n",
    "data[\"hs_directory\"][\"lon\"] = data[\"hs_directory\"][\"Location 1\"].apply(find_lon)\n",
    "\n",
    "data[\"hs_directory\"][\"lat\"] = pd.to_numeric(data[\"hs_directory\"][\"lat\"], errors=\"coerce\")\n",
    "data[\"hs_directory\"][\"lon\"] = pd.to_numeric(data[\"hs_directory\"][\"lon\"], errors=\"coerce\")"
   ]
  },
  {
   "cell_type": "markdown",
   "metadata": {},
   "source": [
    "# Condense datasets"
   ]
  },
  {
   "cell_type": "code",
   "execution_count": 6,
   "metadata": {
    "collapsed": false
   },
   "outputs": [],
   "source": [
    "class_size = data[\"class_size\"]\n",
    "class_size = class_size[class_size[\"GRADE \"] == \"09-12\"]\n",
    "class_size = class_size[class_size[\"PROGRAM TYPE\"] == \"GEN ED\"]\n",
    "\n",
    "class_size = class_size.groupby(\"DBN\").agg(np.mean)\n",
    "class_size.reset_index(inplace=True)\n",
    "data[\"class_size\"] = class_size\n",
    "\n",
    "data[\"demographics\"] = data[\"demographics\"][data[\"demographics\"][\"schoolyear\"] == 20112012]\n",
    "\n",
    "data[\"graduation\"] = data[\"graduation\"][data[\"graduation\"][\"Cohort\"] == \"2006\"]\n",
    "data[\"graduation\"] = data[\"graduation\"][data[\"graduation\"][\"Demographic\"] == \"Total Cohort\"]"
   ]
  },
  {
   "cell_type": "markdown",
   "metadata": {},
   "source": [
    "# Convert AP scores to numeric"
   ]
  },
  {
   "cell_type": "code",
   "execution_count": 7,
   "metadata": {
    "collapsed": true
   },
   "outputs": [],
   "source": [
    "cols = ['AP Test Takers ', 'Total Exams Taken', 'Number of Exams with scores 3 4 or 5']\n",
    "\n",
    "for col in cols:\n",
    "    data[\"ap_2010\"][col] = pd.to_numeric(data[\"ap_2010\"][col], errors=\"coerce\")"
   ]
  },
  {
   "cell_type": "markdown",
   "metadata": {},
   "source": [
    "# Combine the datasets"
   ]
  },
  {
   "cell_type": "code",
   "execution_count": 8,
   "metadata": {
    "collapsed": true
   },
   "outputs": [],
   "source": [
    "combined = data[\"sat_results\"]\n",
    "\n",
    "combined = combined.merge(data[\"ap_2010\"], on=\"DBN\", how=\"left\")\n",
    "combined = combined.merge(data[\"graduation\"], on=\"DBN\", how=\"left\")\n",
    "\n",
    "to_merge = [\"class_size\", \"demographics\", \"survey\", \"hs_directory\"]\n",
    "\n",
    "for m in to_merge:\n",
    "    combined = combined.merge(data[m], on=\"DBN\", how=\"inner\")\n",
    "\n",
    "combined = combined.fillna(combined.mean())\n",
    "combined = combined.fillna(0)"
   ]
  },
  {
   "cell_type": "markdown",
   "metadata": {},
   "source": [
    "# Add a school district column for mapping"
   ]
  },
  {
   "cell_type": "code",
   "execution_count": 9,
   "metadata": {
    "collapsed": true
   },
   "outputs": [],
   "source": [
    "def get_first_two_chars(dbn):\n",
    "    return dbn[0:2]\n",
    "\n",
    "combined[\"school_dist\"] = combined[\"DBN\"].apply(get_first_two_chars)"
   ]
  },
  {
   "cell_type": "markdown",
   "metadata": {},
   "source": [
    "# Find correlations"
   ]
  },
  {
   "cell_type": "code",
   "execution_count": 10,
   "metadata": {
    "collapsed": false
   },
   "outputs": [
    {
     "name": "stdout",
     "output_type": "stream",
     "text": [
      "SAT Critical Reading Avg. Score         0.986820\n",
      "SAT Math Avg. Score                     0.972643\n",
      "SAT Writing Avg. Score                  0.987771\n",
      "sat_score                               1.000000\n",
      "AP Test Takers                          0.523140\n",
      "Total Exams Taken                       0.514333\n",
      "Number of Exams with scores 3 4 or 5    0.463245\n",
      "Total Cohort                            0.325144\n",
      "CSD                                     0.042948\n",
      "NUMBER OF STUDENTS / SEATS FILLED       0.394626\n",
      "NUMBER OF SECTIONS                      0.362673\n",
      "AVERAGE CLASS SIZE                      0.381014\n",
      "SIZE OF SMALLEST CLASS                  0.249949\n",
      "SIZE OF LARGEST CLASS                   0.314434\n",
      "SCHOOLWIDE PUPIL-TEACHER RATIO               NaN\n",
      "schoolyear                                   NaN\n",
      "fl_percent                                   NaN\n",
      "frl_percent                            -0.722225\n",
      "total_enrollment                        0.367857\n",
      "ell_num                                -0.153778\n",
      "ell_percent                            -0.398750\n",
      "sped_num                                0.034933\n",
      "sped_percent                           -0.448170\n",
      "asian_num                               0.475445\n",
      "asian_per                               0.570730\n",
      "black_num                               0.027979\n",
      "black_per                              -0.284139\n",
      "hispanic_num                            0.025744\n",
      "hispanic_per                           -0.396985\n",
      "white_num                               0.449559\n",
      "                                          ...   \n",
      "rr_p                                    0.047925\n",
      "N_s                                     0.423463\n",
      "N_t                                     0.291463\n",
      "N_p                                     0.421530\n",
      "saf_p_11                                0.122913\n",
      "com_p_11                               -0.115073\n",
      "eng_p_11                                0.020254\n",
      "aca_p_11                                0.035155\n",
      "saf_t_11                                0.313810\n",
      "com_t_11                                0.082419\n",
      "eng_t_11                                0.036906\n",
      "aca_t_11                                0.132348\n",
      "saf_s_11                                0.337639\n",
      "com_s_11                                0.187370\n",
      "eng_s_11                                0.213822\n",
      "aca_s_11                                0.339435\n",
      "saf_tot_11                              0.318753\n",
      "com_tot_11                              0.077310\n",
      "eng_tot_11                              0.100102\n",
      "aca_tot_11                              0.190966\n",
      "grade_span_max                               NaN\n",
      "expgrade_span_max                            NaN\n",
      "zip                                    -0.063977\n",
      "total_students                          0.407827\n",
      "number_programs                         0.117012\n",
      "priority08                                   NaN\n",
      "priority09                                   NaN\n",
      "priority10                                   NaN\n",
      "lat                                    -0.121029\n",
      "lon                                    -0.132222\n",
      "Name: sat_score, Length: 67, dtype: float64\n"
     ]
    }
   ],
   "source": [
    "correlations = combined.corr()\n",
    "correlations = correlations[\"sat_score\"]\n",
    "print(correlations)"
   ]
  },
  {
   "cell_type": "markdown",
   "metadata": {},
   "source": [
    "# Plotting survey correlations"
   ]
  },
  {
   "cell_type": "code",
   "execution_count": 11,
   "metadata": {
    "collapsed": true
   },
   "outputs": [],
   "source": [
    "# Remove DBN since it's a unique identifier, not a useful numerical value for correlation.\n",
    "survey_fields.remove(\"DBN\")"
   ]
  },
  {
   "cell_type": "code",
   "execution_count": 12,
   "metadata": {
    "collapsed": false,
    "scrolled": true
   },
   "outputs": [
    {
     "data": {
      "text/plain": [
       "[<matplotlib.text.Text at 0x7fb43857fb38>,\n",
       " <matplotlib.text.Text at 0x7fb43858a2b0>,\n",
       " <matplotlib.text.Text at 0x7fb4385c9d68>,\n",
       " <matplotlib.text.Text at 0x7fb4385c7390>,\n",
       " <matplotlib.text.Text at 0x7fb4385cb8d0>,\n",
       " <matplotlib.text.Text at 0x7fb4385cf518>,\n",
       " <matplotlib.text.Text at 0x7fb4385ce128>,\n",
       " <matplotlib.text.Text at 0x7fb4385cd518>,\n",
       " <matplotlib.text.Text at 0x7fb4385caa58>,\n",
       " <matplotlib.text.Text at 0x7fb4385c2d68>,\n",
       " <matplotlib.text.Text at 0x7fb4385c5080>,\n",
       " <matplotlib.text.Text at 0x7fb4385c4b38>,\n",
       " <matplotlib.text.Text at 0x7fb4385c3470>,\n",
       " <matplotlib.text.Text at 0x7fb4385c1630>,\n",
       " <matplotlib.text.Text at 0x7fb438637198>,\n",
       " <matplotlib.text.Text at 0x7fb4385baf60>,\n",
       " <matplotlib.text.Text at 0x7fb4385b91d0>,\n",
       " <matplotlib.text.Text at 0x7fb4385b9908>,\n",
       " <matplotlib.text.Text at 0x7fb4385b8eb8>,\n",
       " <matplotlib.text.Text at 0x7fb438634940>,\n",
       " <matplotlib.text.Text at 0x7fb438633470>]"
      ]
     },
     "execution_count": 12,
     "metadata": {},
     "output_type": "execute_result"
    },
    {
     "data": {
      "image/png": "[encoded data removed]",
      "text/plain": [
       "<matplotlib.figure.Figure at 0x7fb43858f978>"
      ]
     },
     "metadata": {},
     "output_type": "display_data"
    }
   ],
   "source": [
    "#grabs the overlapping fields from the survey fields and our combined data set\n",
    "survey_sat_overlap = set(survey_fields).intersection(combined)\n",
    "survey_sat_overlap = list(survey_sat_overlap)\n",
    "\n",
    "#set up parameters for the bar graph\n",
    "tick_positions = range(1,len(survey_sat_overlap))\n",
    "bar_heights = correlations[survey_sat_overlap]\n",
    "bar_positions = np.arange(len(bar_heights)) + 0.75\n",
    "width = 0.8\n",
    "\n",
    "#plot the graph\n",
    "fig, ax = plt.subplots()\n",
    "ax.bar(bar_positions, bar_heights, width)\n",
    "ax.set_xticks(tick_positions)\n",
    "ax.set_xticklabels(survey_sat_overlap, rotation = 90)\n",
    "\n"
   ]
  },
  {
   "cell_type": "markdown",
   "metadata": {
    "collapsed": true
   },
   "source": [
    "Strangely enough, we see a positive correlation between SAT score and Safety and Respect survery scores for both student and teacher, but the communication score has little correlation. Parent academic expectation has little to no correlation with the SAT score either. The number of students at the school seems to correlate as well.  Response rates all around seem to be correlated with higher SAT scores, which seems to suggest that higher involvement in the study represents higher SAT scores."
   ]
  },
  {
   "cell_type": "code",
   "execution_count": 13,
   "metadata": {
    "collapsed": false,
    "scrolled": true
   },
   "outputs": [
    {
     "data": {
      "text/plain": [
       "<matplotlib.collections.PathCollection at 0x7fb438b31e10>"
      ]
     },
     "execution_count": 13,
     "metadata": {},
     "output_type": "execute_result"
    },
    {
     "data": {
      "image/png": "[encoded data removed]",
      "text/plain": [
       "<matplotlib.figure.Figure at 0x7fb4385883c8>"
      ]
     },
     "metadata": {},
     "output_type": "display_data"
    }
   ],
   "source": [
    "fig, ax = plt.subplots()\n",
    "ax.scatter(combined['saf_tot_11'],combined['sat_score'])"
   ]
  },
  {
   "cell_type": "markdown",
   "metadata": {
    "collapsed": true
   },
   "source": [
    "There does seem to be a positive linear correlation between the safety scores and the SAT scores, especially in those with higher than 1600."
   ]
  },
  {
   "cell_type": "code",
   "execution_count": 14,
   "metadata": {
    "collapsed": false
   },
   "outputs": [
    {
     "name": "stdout",
     "output_type": "stream",
     "text": [
      "             SAT Critical Reading Avg. Score  SAT Math Avg. Score  \\\n",
      "school_dist                                                         \n",
      "01                                441.833333           473.333333   \n",
      "02                                426.619092           444.186256   \n",
      "03                                428.529851           437.997512   \n",
      "04                                402.142857           416.285714   \n",
      "05                                427.159915           438.236674   \n",
      "06                                382.011940           400.565672   \n",
      "07                                376.461538           380.461538   \n",
      "08                                386.214383           395.542741   \n",
      "09                                373.755970           383.582836   \n",
      "10                                403.363636           418.000000   \n",
      "11                                389.866667           394.533333   \n",
      "12                                364.769900           379.109453   \n",
      "13                                409.393800           424.127440   \n",
      "14                                395.937100           398.189765   \n",
      "15                                395.679934           404.628524   \n",
      "16                                371.529851           379.164179   \n",
      "17                                386.571429           394.071429   \n",
      "18                                373.454545           373.090909   \n",
      "19                                367.083333           377.583333   \n",
      "20                                406.223881           465.731343   \n",
      "21                                395.283582           421.786974   \n",
      "22                                473.500000           502.750000   \n",
      "23                                380.666667           398.666667   \n",
      "24                                405.846154           434.000000   \n",
      "25                                437.250000           483.500000   \n",
      "26                                445.200000           487.600000   \n",
      "27                                407.800000           422.200000   \n",
      "28                                445.941655           465.997286   \n",
      "29                                395.764925           399.457090   \n",
      "30                                430.679934           465.961857   \n",
      "31                                457.500000           472.500000   \n",
      "32                                371.500000           385.833333   \n",
      "\n",
      "             SAT Writing Avg. Score    sat_score  AP Test Takers   \\\n",
      "school_dist                                                         \n",
      "01                       439.333333  1354.500000       116.681090   \n",
      "02                       424.832836  1295.638184       128.908454   \n",
      "03                       426.915672  1293.443035       156.183494   \n",
      "04                       405.714286  1224.142857       129.016484   \n",
      "05                       419.666098  1285.062687        85.722527   \n",
      "06                       382.066269  1164.643881       108.711538   \n",
      "07                       371.923077  1128.846154        73.703402   \n",
      "08                       377.908005  1159.665129       118.379371   \n",
      "09                       374.633134  1131.971940        71.411538   \n",
      "10                       400.863636  1222.227273       132.231206   \n",
      "11                       380.600000  1165.000000        83.813462   \n",
      "12                       357.943781  1101.823134        93.102564   \n",
      "13                       403.666361  1237.187600       232.931953   \n",
      "14                       385.333049  1179.459915        77.798077   \n",
      "15                       390.295854  1190.604312        94.574786   \n",
      "16                       369.415672  1120.109701        82.264423   \n",
      "17                       380.785714  1161.428571       105.583791   \n",
      "18                       371.454545  1118.000000       129.028846   \n",
      "19                       359.166667  1103.833333        88.097756   \n",
      "20                       401.732537  1273.687761       227.805769   \n",
      "21                       389.242062  1206.312619       135.467657   \n",
      "22                       474.250000  1450.500000       391.007212   \n",
      "23                       378.000000  1157.333333        29.000000   \n",
      "24                       402.153846  1242.000000       126.474852   \n",
      "25                       436.250000  1357.000000       205.260817   \n",
      "26                       444.800000  1377.600000       410.605769   \n",
      "27                       394.300000  1224.300000       100.611538   \n",
      "28                       435.908005  1347.846947       182.010490   \n",
      "29                       386.707836  1181.929851        63.385817   \n",
      "30                       429.740299  1326.382090       157.231838   \n",
      "31                       452.500000  1382.500000       228.908654   \n",
      "32                       362.166667  1119.500000        70.342949   \n",
      "\n",
      "             Total Exams Taken  Number of Exams with scores 3 4 or 5  \\\n",
      "school_dist                                                            \n",
      "01                  173.019231                            135.800000   \n",
      "02                  201.516827                            157.495833   \n",
      "03                  244.522436                            193.087500   \n",
      "04                  183.879121                            151.035714   \n",
      "05                  115.725275                            142.464286   \n",
      "06                  159.715385                            105.425000   \n",
      "07                  112.476331                            105.276923   \n",
      "08                  168.020979                            144.731818   \n",
      "09                  104.265385                             98.470000   \n",
      "10                  226.914336                            191.618182   \n",
      "11                  122.484615                            108.833333   \n",
      "12                  139.442308                            153.450000   \n",
      "13                  382.704142                            320.773077   \n",
      "14                  114.873626                            123.282143   \n",
      "15                  141.581197                            153.450000   \n",
      "16                  126.519231                            153.450000   \n",
      "17                  163.087912                            111.360714   \n",
      "18                  197.038462                            153.450000   \n",
      "19                  124.769231                            120.670833   \n",
      "20                  359.407692                            177.690000   \n",
      "21                  203.835664                            142.377273   \n",
      "22                  614.509615                            370.362500   \n",
      "23                   31.000000                            153.450000   \n",
      "24                  179.094675                            115.165385   \n",
      "25                  279.889423                            174.793750   \n",
      "26                  632.407692                            392.090000   \n",
      "27                  145.315385                             95.125000   \n",
      "28                  273.559441                            175.336364   \n",
      "29                   96.514423                            135.268750   \n",
      "30                  252.123932                            115.150000   \n",
      "31                  355.111538                            194.435000   \n",
      "32                  100.179487                             83.558333   \n",
      "\n",
      "             Total Cohort   CSD  NUMBER OF STUDENTS / SEATS FILLED    ...      \\\n",
      "school_dist                                                           ...       \n",
      "01              93.500000   1.0                         115.244241    ...       \n",
      "02             158.647849   2.0                         149.818949    ...       \n",
      "03             183.384409   3.0                         156.005994    ...       \n",
      "04             113.857143   4.0                         132.362265    ...       \n",
      "05             143.677419   5.0                         120.623901    ...       \n",
      "06             180.848387   6.0                         139.041709    ...       \n",
      "07             105.605459   7.0                          97.597416    ...       \n",
      "08             215.510264   8.0                         129.765099    ...       \n",
      "09             113.330645   9.0                         100.118588    ...       \n",
      "10             161.318182  10.0                         168.876526    ...       \n",
      "11             122.866667  11.0                         129.031031    ...       \n",
      "12             110.467742  12.0                          91.684504    ...       \n",
      "13             224.595533  13.0                         218.306055    ...       \n",
      "14             112.347926  14.0                         123.643728    ...       \n",
      "15             104.207885  15.0                         135.707319    ...       \n",
      "16             247.185484  16.0                         177.501282    ...       \n",
      "17             121.357143  17.0                         130.246192    ...       \n",
      "18              72.771261  18.0                          72.209438    ...       \n",
      "19             114.322581  19.0                         105.752625    ...       \n",
      "20             591.374194  20.0                         420.029766    ...       \n",
      "21             275.351906  21.0                         224.702989    ...       \n",
      "22             580.250000  22.0                         495.279369    ...       \n",
      "23              87.000000  23.0                         120.113095    ...       \n",
      "24             234.682382  24.0                         213.471903    ...       \n",
      "25             268.733871  25.0                         280.576007    ...       \n",
      "26             825.600000  26.0                         595.953216    ...       \n",
      "27             288.961290  27.0                         249.324536    ...       \n",
      "28             351.214076  28.0                         255.381164    ...       \n",
      "29              98.108871  29.0                          88.372155    ...       \n",
      "30             310.526882  30.0                         251.803744    ...       \n",
      "31             450.787097  31.0                         380.528319    ...       \n",
      "32             105.333333  32.0                         100.525613    ...       \n",
      "\n",
      "             grade_span_max  expgrade_span_max           zip  total_students  \\\n",
      "school_dist                                                                    \n",
      "01                     12.0               12.0  10003.166667      659.500000   \n",
      "02                     12.0               12.0  10023.770833      621.395833   \n",
      "03                     12.0               12.0  10023.750000      717.916667   \n",
      "04                     12.0               12.0  10029.857143      580.857143   \n",
      "05                     12.0               12.0  10030.142857      609.857143   \n",
      "06                     12.0               12.0  10036.200000      628.900000   \n",
      "07                     12.0               12.0  10452.692308      465.846154   \n",
      "08                     12.0               12.0  10467.000000      547.636364   \n",
      "09                     12.0               12.0  10456.100000      449.700000   \n",
      "10                     12.0               12.0  10463.181818      757.863636   \n",
      "11                     12.0               12.0  10467.933333      563.666667   \n",
      "12                     12.0               12.0  10463.166667      409.000000   \n",
      "13                     12.0               12.0  11207.153846      895.153846   \n",
      "14                     12.0               12.0  11210.785714      545.357143   \n",
      "15                     12.0               12.0  11214.222222      573.111111   \n",
      "16                     12.0               12.0  11219.000000      440.250000   \n",
      "17                     12.0               12.0  11220.642857      547.071429   \n",
      "18                     12.0               12.0  11224.000000      344.000000   \n",
      "19                     12.0               12.0  11207.500000      440.416667   \n",
      "20                     12.0               12.0  11210.200000     2521.400000   \n",
      "21                     12.0               12.0  11221.000000     1098.272727   \n",
      "22                     12.0               12.0  11223.000000     2149.000000   \n",
      "23                     12.0               12.0  11219.000000      391.000000   \n",
      "24                     12.0               12.0  11206.153846      962.461538   \n",
      "25                     12.0               12.0  11361.000000     1288.875000   \n",
      "26                     12.0               12.0  11388.600000     2837.400000   \n",
      "27                     12.0               12.0  11556.300000     1072.000000   \n",
      "28                     12.0               12.0  11422.000000     1304.272727   \n",
      "29                     12.0               12.0  11413.625000      474.125000   \n",
      "30                     12.0               12.0  11103.000000     1123.333333   \n",
      "31                     12.0               12.0  10307.100000     1847.500000   \n",
      "32                     12.0               12.0  11231.666667      381.500000   \n",
      "\n",
      "             number_programs  priority08  priority09  priority10        lat  \\\n",
      "school_dist                                                                   \n",
      "01                  1.333333         0.0         0.0         0.0  40.719022   \n",
      "02                  1.416667         0.0         0.0         0.0  40.739699   \n",
      "03                  2.000000         0.0         0.0         0.0  40.781574   \n",
      "04                  1.142857         0.0         0.0         0.0  40.793449   \n",
      "05                  1.142857         0.0         0.0         0.0  40.817077   \n",
      "06                  1.300000         0.0         0.0         0.0  40.848970   \n",
      "07                  1.461538         0.0         0.0         0.0  40.816815   \n",
      "08                  1.272727         0.0         0.0         0.0  40.823803   \n",
      "09                  1.150000         0.0         0.0         0.0  40.836349   \n",
      "10                  1.500000         0.0         0.0         0.0  40.870345   \n",
      "11                  1.533333         0.0         0.0         0.0  40.873138   \n",
      "12                  1.083333         0.0         0.0         0.0  40.831412   \n",
      "13                  2.076923         0.0         0.0         0.0  40.692865   \n",
      "14                  2.000000         0.0         0.0         0.0  40.711599   \n",
      "15                  1.666667         0.0         0.0         0.0  40.675972   \n",
      "16                  1.750000         0.0         0.0         0.0  40.688008   \n",
      "17                  1.642857         0.0         0.0         0.0  40.660313   \n",
      "18                  1.090909         0.0         0.0         0.0  40.641863   \n",
      "19                  1.916667         0.0         0.0         0.0  40.676547   \n",
      "20                  3.800000         0.0         0.0         0.0  40.626751   \n",
      "21                  3.272727         0.0         0.0         0.0  40.593596   \n",
      "22                  2.250000         0.0         0.0         0.0  40.618285   \n",
      "23                  1.333333         0.0         0.0         0.0  40.668586   \n",
      "24                  2.230769         0.0         0.0         0.0  40.740621   \n",
      "25                  1.875000         0.0         0.0         0.0  40.745414   \n",
      "26                  4.600000         0.0         0.0         0.0  40.748507   \n",
      "27                  2.500000         0.0         0.0         0.0  40.638828   \n",
      "28                  2.545455         0.0         0.0         0.0  40.709344   \n",
      "29                  1.250000         0.0         0.0         0.0  40.685276   \n",
      "30                  2.555556         0.0         0.0         0.0  40.755398   \n",
      "31                  5.000000         0.0         0.0         0.0  40.595680   \n",
      "32                  1.000000         0.0         0.0         0.0  40.696295   \n",
      "\n",
      "                   lon  \n",
      "school_dist             \n",
      "01          -73.982377  \n",
      "02          -73.991386  \n",
      "03          -73.977370  \n",
      "04          -73.943215  \n",
      "05          -73.949251  \n",
      "06          -73.932502  \n",
      "07          -73.919971  \n",
      "08          -73.866087  \n",
      "09          -73.906240  \n",
      "10          -73.898360  \n",
      "11          -73.856120  \n",
      "12          -73.886946  \n",
      "13          -73.977016  \n",
      "14          -73.948360  \n",
      "15          -73.989255  \n",
      "16          -73.929686  \n",
      "17          -73.955636  \n",
      "18          -73.914726  \n",
      "19          -73.882158  \n",
      "20          -74.006191  \n",
      "21          -73.978465  \n",
      "22          -73.952288  \n",
      "23          -73.912298  \n",
      "24          -73.911518  \n",
      "25          -73.815558  \n",
      "26          -73.759176  \n",
      "27          -73.807823  \n",
      "28          -73.806367  \n",
      "29          -73.752740  \n",
      "30          -73.932306  \n",
      "31          -74.125726  \n",
      "32          -73.917124  \n",
      "\n",
      "[32 rows x 67 columns]\n"
     ]
    }
   ],
   "source": [
    "districts = combined.groupby(\"school_dist\").agg(np.mean)\n",
    "print(districts)\n",
    "\n",
    "\n"
   ]
  },
  {
   "cell_type": "code",
   "execution_count": 15,
   "metadata": {
    "collapsed": false,
    "scrolled": true
   },
   "outputs": [
    {
     "data": {
      "image/png": "[encoded data removed]",
      "text/plain": [
       "<matplotlib.figure.Figure at 0x7fb4385c10b8>"
      ]
     },
     "metadata": {},
     "output_type": "display_data"
    }
   ],
   "source": [
    "from mpl_toolkits.basemap import Basemap\n",
    "\n",
    "m = Basemap(\n",
    "    projection='merc', \n",
    "    llcrnrlat=40.496044, \n",
    "    urcrnrlat=40.915256, \n",
    "    llcrnrlon=-74.255735, \n",
    "    urcrnrlon=-73.700272,\n",
    "    resolution='i'\n",
    "    )\n",
    "\n",
    "m.drawmapboundary(fill_color='#85A6D9')\n",
    "m.drawcoastlines(color='#6D5F47', linewidth=.4)\n",
    "m.drawrivers(color='#6D5F47', linewidth=.4)\n",
    "    \n",
    "longitudes = districts[\"lon\"].tolist()\n",
    "latitudes = districts[\"lat\"].tolist()\n",
    "\n",
    "m.scatter(longitudes, latitudes, s=50, zorder = 2, latlon = True, c = districts[\"saf_tot_11\"], cmap = \"summer\")\n",
    "plt.show()"
   ]
  },
  {
   "cell_type": "markdown",
   "metadata": {},
   "source": [
    "The map above seems to indicate that eastern parts of Brooklyn has the lowest safety scores and that the Bronx and Queens tends to have much higher safety scores."
   ]
  },
  {
   "cell_type": "code",
   "execution_count": 16,
   "metadata": {
    "collapsed": false
   },
   "outputs": [
    {
     "data": {
      "text/plain": [
       "[<matplotlib.text.Text at 0x7fb437facdd8>,\n",
       " <matplotlib.text.Text at 0x7fb437faa630>,\n",
       " <matplotlib.text.Text at 0x7fb43811afd0>]"
      ]
     },
     "execution_count": 16,
     "metadata": {},
     "output_type": "execute_result"
    },
    {
     "data": {
      "image/png": "[encoded data removed]",
      "text/plain": [
       "<matplotlib.figure.Figure at 0x7fb43858ff60>"
      ]
     },
     "metadata": {},
     "output_type": "display_data"
    }
   ],
   "source": [
    "#grabs the overlapping fields from the survey fields and our combined data set\n",
    "race_subset = ['white_per','asian_per','black_per','hispanic_per']\n",
    "\n",
    "#set up parameters for the bar graph\n",
    "tick_positions = range(1,len(race_subset))\n",
    "bar_heights = correlations[race_subset]\n",
    "bar_positions = np.arange(len(bar_heights)) + 0.75\n",
    "width = 0.8\n",
    "\n",
    "#plot the graph\n",
    "fig, ax = plt.subplots()\n",
    "ax.bar(bar_positions, bar_heights, width)\n",
    "ax.set_xticks(tick_positions)\n",
    "ax.set_xticklabels(race_subset, rotation = 90)\n"
   ]
  },
  {
   "cell_type": "markdown",
   "metadata": {},
   "source": [
    "It seems like the hispanic student ratio is very negatively correlated with SAT scores, as well as a moderate negative correlation between the ratio of black students and SAT students. It's important to gauge the economic power of these demographics and see whether or not the SAT scores are correlated to the inherent race demographic or if they are simply more correlated to the race demographic's economic levels. Hispanic people might be doing poorer on the SAT simply because they tend to be more poor in New York City."
   ]
  },
  {
   "cell_type": "code",
   "execution_count": 17,
   "metadata": {
    "collapsed": false
   },
   "outputs": [
    {
     "data": {
      "text/plain": [
       "<matplotlib.collections.PathCollection at 0x7fb438282f28>"
      ]
     },
     "execution_count": 17,
     "metadata": {},
     "output_type": "execute_result"
    },
    {
     "data": {
      "image/png": "[encoded data removed]",
      "text/plain": [
       "<matplotlib.figure.Figure at 0x7fb4385c47b8>"
      ]
     },
     "metadata": {},
     "output_type": "display_data"
    }
   ],
   "source": [
    "fig, ax = plt.subplots()\n",
    "ax.scatter(combined['hispanic_per'],combined['sat_score'])"
   ]
  },
  {
   "cell_type": "markdown",
   "metadata": {},
   "source": [
    "The graph seems to really indicate that the ratio of hispanic people in school correlates with decreasing SAT scores. Again to find out if this is racial bias or not, the english language learner percentage as well as hispanic people's relative economic status in these schools must be gauged."
   ]
  },
  {
   "cell_type": "code",
   "execution_count": 18,
   "metadata": {
    "collapsed": false
   },
   "outputs": [
    {
     "data": {
      "image/png": "[encoded data removed]",
      "text/plain": [
       "<matplotlib.figure.Figure at 0x7fb4382d39e8>"
      ]
     },
     "metadata": {},
     "output_type": "display_data"
    }
   ],
   "source": [
    "hisp_below10perc_schools = combined[combined[\"hispanic_per\"] < 10]\n",
    "hisp_above95perc_schools = combined[combined[\"hispanic_per\"] > 95]\n",
    "\n",
    "from mpl_toolkits.basemap import Basemap\n",
    "\n",
    "m = Basemap(\n",
    "    projection='merc', \n",
    "    llcrnrlat=40.496044, \n",
    "    urcrnrlat=40.915256, \n",
    "    llcrnrlon=-74.255735, \n",
    "    urcrnrlon=-73.700272,\n",
    "    resolution='i'\n",
    "    )\n",
    "\n",
    "m.drawmapboundary(fill_color='#85A6D9')\n",
    "m.drawcoastlines(color='#6D5F47', linewidth=.4)\n",
    "m.drawrivers(color='#6D5F47', linewidth=.4)\n",
    "    \n",
    "longitudes = hisp_above95perc_schools[\"lon\"].tolist()\n",
    "latitudes = hisp_above95perc_schools[\"lat\"].tolist()\n",
    "\n",
    "m.scatter(longitudes, latitudes, s=50, zorder = 2, latlon = True)\n",
    "plt.show()"
   ]
  },
  {
   "cell_type": "code",
   "execution_count": 19,
   "metadata": {
    "collapsed": false
   },
   "outputs": [
    {
     "data": {
      "text/plain": [
       "37     59.3\n",
       "46     51.3\n",
       "151    57.8\n",
       "187    58.3\n",
       "192    49.0\n",
       "194    46.1\n",
       "220    61.7\n",
       "223    53.8\n",
       "226    50.1\n",
       "227    51.6\n",
       "228    52.0\n",
       "229    61.6\n",
       "230    63.3\n",
       "231    53.0\n",
       "235    41.8\n",
       "236    23.8\n",
       "237    49.0\n",
       "238    61.0\n",
       "240    64.3\n",
       "241    48.9\n",
       "242    47.4\n",
       "280    50.7\n",
       "327    56.5\n",
       "330    56.0\n",
       "331    53.3\n",
       "332    56.9\n",
       "335    55.1\n",
       "337    42.8\n",
       "353    49.6\n",
       "356    57.0\n",
       "Name: male_per, dtype: float64"
      ]
     },
     "execution_count": 19,
     "metadata": {},
     "output_type": "execute_result"
    }
   ],
   "source": [
    "hisp_below10perc_schools = (combined[combined[\"hispanic_per\"] < 10]['male_per'])\n",
    "hisp_above95perc_schools = combined[combined[\"hispanic_per\"] > 95]\n",
    "\n",
    "hisp_below10perc_schools"
   ]
  },
  {
   "cell_type": "markdown",
   "metadata": {},
   "source": [
    "All of the schools with a hispanic population above 95% tend to be international schools or schools aimed at educating first generation immigrants. On the flipside, hispanic populations above 10% tend to be more technical and prepatory high schools.\n",
    "\n",
    "As far as location goes, the high schools with less than 10% Hispanic populations tend to be located in Brooklyn and Queens, while the ones with 95% plus population tend to be located in the Bronx."
   ]
  },
  {
   "cell_type": "code",
   "execution_count": 20,
   "metadata": {
    "collapsed": false
   },
   "outputs": [
    {
     "data": {
      "image/png": "[encoded data removed]",
      "text/plain": [
       "<matplotlib.figure.Figure at 0x7fb43861a588>"
      ]
     },
     "metadata": {},
     "output_type": "display_data"
    }
   ],
   "source": [
    "gender_subset = ['male_per','female_per']\n",
    "\n",
    "#create the bar parameters \n",
    "bar_heights = correlations[gender_subset]\n",
    "bar_positions = [0.33, 0.66]\n",
    "width = 0.2\n",
    "\n",
    "#create the barplot\n",
    "fig, ax = plt.subplots()\n",
    "ax.bar(bar_positions, bar_heights, width, align = 'center')\n",
    "plt.xticks(bar_positions, gender_subset)\n",
    "plt.show()"
   ]
  },
  {
   "cell_type": "markdown",
   "metadata": {},
   "source": [
    "The correlations between gender ratio and SAT are pretty small in magnitude, suggesting that gender does not have much influence on SAT scores.\n",
    "I'm surprised to see that there is a negative correlation between male_per and SAT_scores, given that we saw that the schools that had the smallest percentage of hispanic peoples (whose ratio had the biggest negative correlation with SAT scores out of the ones surveyed) were mostly technical schools, tended to have slightly more males. "
   ]
  },
  {
   "cell_type": "code",
   "execution_count": 21,
   "metadata": {
    "collapsed": false
   },
   "outputs": [
    {
     "data": {
      "text/plain": [
       "<matplotlib.collections.PathCollection at 0x7fb4380527b8>"
      ]
     },
     "execution_count": 21,
     "metadata": {},
     "output_type": "execute_result"
    },
    {
     "data": {
      "image/png": "[encoded data removed]",
      "text/plain": [
       "<matplotlib.figure.Figure at 0x7fb4381e2908>"
      ]
     },
     "metadata": {},
     "output_type": "display_data"
    }
   ],
   "source": [
    "fig, ax = plt.subplots()\n",
    "ax.scatter(combined['female_per'], combined['sat_score'])"
   ]
  },
  {
   "cell_type": "markdown",
   "metadata": {},
   "source": [
    "There's no extremely clear trend in this graph. The large cluster in the middle suggests that most schools have approximately equal male and female populations."
   ]
  },
  {
   "cell_type": "code",
   "execution_count": 22,
   "metadata": {
    "collapsed": false
   },
   "outputs": [
    {
     "data": {
      "text/plain": [
       "5                         Bard High School Early College\n",
       "26                         Eleanor Roosevelt High School\n",
       "60                                    Beacon High School\n",
       "61     Fiorello H. LaGuardia High School of Music & A...\n",
       "302                          Townsend Harris High School\n",
       "Name: school_name, dtype: object"
      ]
     },
     "execution_count": 22,
     "metadata": {},
     "output_type": "execute_result"
    }
   ],
   "source": [
    "high_performing_female_subset = np.all([[combined['sat_score'] > 1700], [combined['female_per'] > 60]], axis = 0).tolist()\n",
    "high_performing_female_subset = high_performing_female_subset[0]\n",
    "combined['school_name'][high_performing_female_subset]"
   ]
  },
  {
   "cell_type": "markdown",
   "metadata": {
    "collapsed": false
   },
   "source": [
    "Most of these high schools have college level courses that offer college credits, or are specialty prepatory schools."
   ]
  },
  {
   "cell_type": "code",
   "execution_count": null,
   "metadata": {
    "collapsed": false
   },
   "outputs": [],
   "source": []
  },
  {
   "cell_type": "markdown",
   "metadata": {
    "collapsed": true
   },
   "source": [
    "A lot of these high performing schools are either performing art schools, college prep schools, or schools with focus in particular subjects/fields."
   ]
  },
  {
   "cell_type": "code",
   "execution_count": 24,
   "metadata": {
    "collapsed": false
   },
   "outputs": [
    {
     "data": {
      "text/plain": [
       "<matplotlib.collections.PathCollection at 0x7fb437660b70>"
      ]
     },
     "execution_count": 24,
     "metadata": {},
     "output_type": "execute_result"
    },
    {
     "data": {
      "image/png": "[encoded data removed]",
      "text/plain": [
       "<matplotlib.figure.Figure at 0x7fb43860d470>"
      ]
     },
     "metadata": {},
     "output_type": "display_data"
    }
   ],
   "source": [
    "combined[\"ap_per\"] = combined[\"AP Test Takers \"]/combined[\"total_enrollment\"]\n",
    "fig, ax = plt.subplots()\n",
    "ax.scatter(combined[\"ap_per\"], combined[\"sat_score\"])"
   ]
  },
  {
   "cell_type": "markdown",
   "metadata": {},
   "source": [
    "On one hand, there is a part of the population that seems to have the AP test and SAT scores correlated with each other, and then the other part seems to not"
   ]
  }
 ],
 "metadata": {
  "kernelspec": {
   "display_name": "Python 3",
   "language": "python",
   "name": "python3"
  },
  "language_info": {
   "codemirror_mode": {
    "name": "ipython",
    "version": 3
   },
   "file_extension": ".py",
   "mimetype": "text/x-python",
   "name": "python",
   "nbconvert_exporter": "python",
   "pygments_lexer": "ipython3",
   "version": "3.4.3"
  }
 },
 "nbformat": 4,
 "nbformat_minor": 2
}
